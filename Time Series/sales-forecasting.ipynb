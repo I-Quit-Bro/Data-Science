{
 "cells": [
  {
   "cell_type": "markdown",
   "id": "3fec37f5",
   "metadata": {
    "papermill": {
     "duration": 0.006615,
     "end_time": "2025-01-02T19:47:56.419499",
     "exception": false,
     "start_time": "2025-01-02T19:47:56.412884",
     "status": "completed"
    },
    "tags": []
   },
   "source": [
    "# Sales Forecasting"
   ]
  },
  {
   "cell_type": "markdown",
   "id": "9948b8eb",
   "metadata": {
    "papermill": {
     "duration": 0.005464,
     "end_time": "2025-01-02T19:47:56.430949",
     "exception": false,
     "start_time": "2025-01-02T19:47:56.425485",
     "status": "completed"
    },
    "tags": []
   },
   "source": [
    "**Creating forecasting models to forecaste future sales. Typical time series problem.**"
   ]
  },
  {
   "cell_type": "markdown",
   "id": "8addbb63",
   "metadata": {
    "papermill": {
     "duration": 0.005468,
     "end_time": "2025-01-02T19:47:56.442155",
     "exception": false,
     "start_time": "2025-01-02T19:47:56.436687",
     "status": "completed"
    },
    "tags": []
   },
   "source": [
    "# Steps Overview\n",
    "1. Get the data\n",
    "2. Explore and understand data\n",
    "3. Visualize\n",
    "4. Building forcasting model (ARIMA & SARIMA)"
   ]
  },
  {
   "cell_type": "markdown",
   "id": "93effffd",
   "metadata": {
    "papermill": {
     "duration": 0.005402,
     "end_time": "2025-01-02T19:47:56.453356",
     "exception": false,
     "start_time": "2025-01-02T19:47:56.447954",
     "status": "completed"
    },
    "tags": []
   },
   "source": [
    "**Run the Notebook:**\n",
    "**1.** [Kaggle](https://www.kaggle.com/code/chaoscreator/sales-forecasting)\n",
    "**2.** [Colab](https://colab.research.google.com/drive/1WOsE4_iSM81aZ8ieK2_jeHugEYdhopNY)"
   ]
  },
  {
   "cell_type": "markdown",
   "id": "f662b2cc",
   "metadata": {
    "papermill": {
     "duration": 0.005558,
     "end_time": "2025-01-02T19:47:56.464532",
     "exception": false,
     "start_time": "2025-01-02T19:47:56.458974",
     "status": "completed"
    },
    "tags": []
   },
   "source": [
    "# **Step 1.**  Get the data, you can find the dataset [here](https://www.kaggle.com/dromosys/shampoo-sales/data)."
   ]
  },
  {
   "cell_type": "code",
   "execution_count": 1,
   "id": "9975a362",
   "metadata": {
    "execution": {
     "iopub.execute_input": "2025-01-02T19:47:56.477650Z",
     "iopub.status.busy": "2025-01-02T19:47:56.477239Z",
     "iopub.status.idle": "2025-01-02T19:48:03.806103Z",
     "shell.execute_reply": "2025-01-02T19:48:03.804231Z"
    },
    "papermill": {
     "duration": 7.337934,
     "end_time": "2025-01-02T19:48:03.808142",
     "exception": false,
     "start_time": "2025-01-02T19:47:56.470208",
     "status": "completed"
    },
    "tags": []
   },
   "outputs": [
    {
     "name": "stdout",
     "output_type": "stream",
     "text": [
      "Collecting pmdarima\r\n",
      "  Downloading pmdarima-2.0.4-cp310-cp310-manylinux_2_17_x86_64.manylinux2014_x86_64.manylinux_2_28_x86_64.whl.metadata (7.8 kB)\r\n",
      "Requirement already satisfied: joblib>=0.11 in /usr/local/lib/python3.10/dist-packages (from pmdarima) (1.4.2)\r\n",
      "Requirement already satisfied: Cython!=0.29.18,!=0.29.31,>=0.29 in /usr/local/lib/python3.10/dist-packages (from pmdarima) (3.0.11)\r\n",
      "Requirement already satisfied: numpy>=1.21.2 in /usr/local/lib/python3.10/dist-packages (from pmdarima) (1.26.4)\r\n",
      "Requirement already satisfied: pandas>=0.19 in /usr/local/lib/python3.10/dist-packages (from pmdarima) (2.1.4)\r\n",
      "Requirement already satisfied: scikit-learn>=0.22 in /usr/local/lib/python3.10/dist-packages (from pmdarima) (1.2.2)\r\n",
      "Requirement already satisfied: scipy>=1.3.2 in /usr/local/lib/python3.10/dist-packages (from pmdarima) (1.13.1)\r\n",
      "Requirement already satisfied: statsmodels>=0.13.2 in /usr/local/lib/python3.10/dist-packages (from pmdarima) (0.14.3)\r\n",
      "Requirement already satisfied: urllib3 in /usr/local/lib/python3.10/dist-packages (from pmdarima) (2.2.3)\r\n",
      "Requirement already satisfied: setuptools!=50.0.0,>=38.6.0 in /usr/local/lib/python3.10/dist-packages (from pmdarima) (71.0.4)\r\n",
      "Requirement already satisfied: packaging>=17.1 in /usr/local/lib/python3.10/dist-packages (from pmdarima) (24.1)\r\n",
      "Requirement already satisfied: python-dateutil>=2.8.2 in /usr/local/lib/python3.10/dist-packages (from pandas>=0.19->pmdarima) (2.8.2)\r\n",
      "Requirement already satisfied: pytz>=2020.1 in /usr/local/lib/python3.10/dist-packages (from pandas>=0.19->pmdarima) (2024.2)\r\n",
      "Requirement already satisfied: tzdata>=2022.1 in /usr/local/lib/python3.10/dist-packages (from pandas>=0.19->pmdarima) (2024.1)\r\n",
      "Requirement already satisfied: threadpoolctl>=2.0.0 in /usr/local/lib/python3.10/dist-packages (from scikit-learn>=0.22->pmdarima) (3.5.0)\r\n",
      "Requirement already satisfied: patsy>=0.5.6 in /usr/local/lib/python3.10/dist-packages (from statsmodels>=0.13.2->pmdarima) (0.5.6)\r\n",
      "Requirement already satisfied: six in /usr/local/lib/python3.10/dist-packages (from patsy>=0.5.6->statsmodels>=0.13.2->pmdarima) (1.16.0)\r\n",
      "Downloading pmdarima-2.0.4-cp310-cp310-manylinux_2_17_x86_64.manylinux2014_x86_64.manylinux_2_28_x86_64.whl (2.1 MB)\r\n",
      "\u001b[2K   \u001b[90m━━━━━━━━━━━━━━━━━━━━━━━━━━━━━━━━━━━━━━━━\u001b[0m \u001b[32m2.1/2.1 MB\u001b[0m \u001b[31m28.1 MB/s\u001b[0m eta \u001b[36m0:00:00\u001b[0m\r\n",
      "\u001b[?25hInstalling collected packages: pmdarima\r\n",
      "Successfully installed pmdarima-2.0.4\r\n"
     ]
    }
   ],
   "source": [
    "#library which provides auto arima method to find the best hyperparameters \n",
    "!pip install pmdarima"
   ]
  },
  {
   "cell_type": "code",
   "execution_count": 2,
   "id": "98560d7a",
   "metadata": {
    "execution": {
     "iopub.execute_input": "2025-01-02T19:48:03.823162Z",
     "iopub.status.busy": "2025-01-02T19:48:03.822764Z",
     "iopub.status.idle": "2025-01-02T19:48:07.798184Z",
     "shell.execute_reply": "2025-01-02T19:48:07.796729Z"
    },
    "papermill": {
     "duration": 3.985242,
     "end_time": "2025-01-02T19:48:07.800404",
     "exception": false,
     "start_time": "2025-01-02T19:48:03.815162",
     "status": "completed"
    },
    "tags": []
   },
   "outputs": [],
   "source": [
    "import pandas as pd\n",
    "import seaborn as sns\n",
    "import matplotlib.pyplot as plt\n",
    "from matplotlib import pyplot\n",
    "from pandas import DataFrame\n",
    "import os\n",
    "import warnings\n",
    "warnings.filterwarnings(\"ignore\")\n",
    "\n",
    "from statsmodels.tsa.stattools import adfuller\n",
    "from pmdarima import auto_arima\n",
    "from pandas.plotting import autocorrelation_plot\n",
    "\n",
    "from sklearn.metrics import mean_squared_error\n",
    "from math import sqrt\n",
    "\n",
    "from statsmodels.tsa.arima.model import ARIMA\n",
    "from statsmodels.tsa.statespace.sarimax import SARIMAX"
   ]
  },
  {
   "cell_type": "code",
   "execution_count": 3,
   "id": "38cdd41e",
   "metadata": {
    "execution": {
     "iopub.execute_input": "2025-01-02T19:48:07.815473Z",
     "iopub.status.busy": "2025-01-02T19:48:07.814828Z",
     "iopub.status.idle": "2025-01-02T19:48:07.834848Z",
     "shell.execute_reply": "2025-01-02T19:48:07.833519Z"
    },
    "papermill": {
     "duration": 0.030028,
     "end_time": "2025-01-02T19:48:07.837192",
     "exception": false,
     "start_time": "2025-01-02T19:48:07.807164",
     "status": "completed"
    },
    "tags": []
   },
   "outputs": [],
   "source": [
    "df = pd.read_csv('/kaggle/input/sales-of-shampoo/sales-of-shampoo-over-a-three-ye.csv')"
   ]
  },
  {
   "cell_type": "markdown",
   "id": "357b2df0",
   "metadata": {
    "papermill": {
     "duration": 0.006693,
     "end_time": "2025-01-02T19:48:07.850520",
     "exception": false,
     "start_time": "2025-01-02T19:48:07.843827",
     "status": "completed"
    },
    "tags": []
   },
   "source": [
    "# **Step 2.** Explore and process the data."
   ]
  },
  {
   "cell_type": "code",
   "execution_count": 4,
   "id": "5f032c59",
   "metadata": {
    "execution": {
     "iopub.execute_input": "2025-01-02T19:48:07.864757Z",
     "iopub.status.busy": "2025-01-02T19:48:07.864415Z",
     "iopub.status.idle": "2025-01-02T19:48:07.893343Z",
     "shell.execute_reply": "2025-01-02T19:48:07.891570Z"
    },
    "papermill": {
     "duration": 0.038532,
     "end_time": "2025-01-02T19:48:07.895572",
     "exception": false,
     "start_time": "2025-01-02T19:48:07.857040",
     "status": "completed"
    },
    "tags": []
   },
   "outputs": [
    {
     "name": "stdout",
     "output_type": "stream",
     "text": [
      "<class 'pandas.core.frame.DataFrame'>\n",
      "RangeIndex: 37 entries, 0 to 36\n",
      "Data columns (total 2 columns):\n",
      " #   Column                                     Non-Null Count  Dtype  \n",
      "---  ------                                     --------------  -----  \n",
      " 0   Month                                      37 non-null     object \n",
      " 1   Sales of shampoo over a three year period  36 non-null     float64\n",
      "dtypes: float64(1), object(1)\n",
      "memory usage: 720.0+ bytes\n"
     ]
    }
   ],
   "source": [
    "df.info()"
   ]
  },
  {
   "cell_type": "code",
   "execution_count": 5,
   "id": "185864ff",
   "metadata": {
    "execution": {
     "iopub.execute_input": "2025-01-02T19:48:07.910904Z",
     "iopub.status.busy": "2025-01-02T19:48:07.910449Z",
     "iopub.status.idle": "2025-01-02T19:48:07.929165Z",
     "shell.execute_reply": "2025-01-02T19:48:07.928001Z"
    },
    "papermill": {
     "duration": 0.028584,
     "end_time": "2025-01-02T19:48:07.931216",
     "exception": false,
     "start_time": "2025-01-02T19:48:07.902632",
     "status": "completed"
    },
    "tags": []
   },
   "outputs": [
    {
     "data": {
      "text/html": [
       "<div>\n",
       "<style scoped>\n",
       "    .dataframe tbody tr th:only-of-type {\n",
       "        vertical-align: middle;\n",
       "    }\n",
       "\n",
       "    .dataframe tbody tr th {\n",
       "        vertical-align: top;\n",
       "    }\n",
       "\n",
       "    .dataframe thead th {\n",
       "        text-align: right;\n",
       "    }\n",
       "</style>\n",
       "<table border=\"1\" class=\"dataframe\">\n",
       "  <thead>\n",
       "    <tr style=\"text-align: right;\">\n",
       "      <th></th>\n",
       "      <th>Month</th>\n",
       "      <th>Sales of shampoo over a three year period</th>\n",
       "    </tr>\n",
       "  </thead>\n",
       "  <tbody>\n",
       "    <tr>\n",
       "      <th>0</th>\n",
       "      <td>1-01</td>\n",
       "      <td>266.0</td>\n",
       "    </tr>\n",
       "    <tr>\n",
       "      <th>1</th>\n",
       "      <td>1-02</td>\n",
       "      <td>145.9</td>\n",
       "    </tr>\n",
       "    <tr>\n",
       "      <th>2</th>\n",
       "      <td>1-03</td>\n",
       "      <td>183.1</td>\n",
       "    </tr>\n",
       "    <tr>\n",
       "      <th>3</th>\n",
       "      <td>1-04</td>\n",
       "      <td>119.3</td>\n",
       "    </tr>\n",
       "    <tr>\n",
       "      <th>4</th>\n",
       "      <td>1-05</td>\n",
       "      <td>180.3</td>\n",
       "    </tr>\n",
       "  </tbody>\n",
       "</table>\n",
       "</div>"
      ],
      "text/plain": [
       "  Month  Sales of shampoo over a three year period\n",
       "0  1-01                                      266.0\n",
       "1  1-02                                      145.9\n",
       "2  1-03                                      183.1\n",
       "3  1-04                                      119.3\n",
       "4  1-05                                      180.3"
      ]
     },
     "execution_count": 5,
     "metadata": {},
     "output_type": "execute_result"
    }
   ],
   "source": [
    "df.head()"
   ]
  },
  {
   "cell_type": "code",
   "execution_count": 6,
   "id": "a05d3a67",
   "metadata": {
    "execution": {
     "iopub.execute_input": "2025-01-02T19:48:07.946921Z",
     "iopub.status.busy": "2025-01-02T19:48:07.946474Z",
     "iopub.status.idle": "2025-01-02T19:48:07.955397Z",
     "shell.execute_reply": "2025-01-02T19:48:07.954152Z"
    },
    "papermill": {
     "duration": 0.019225,
     "end_time": "2025-01-02T19:48:07.957244",
     "exception": false,
     "start_time": "2025-01-02T19:48:07.938019",
     "status": "completed"
    },
    "tags": []
   },
   "outputs": [
    {
     "data": {
      "text/plain": [
       "0"
      ]
     },
     "execution_count": 6,
     "metadata": {},
     "output_type": "execute_result"
    }
   ],
   "source": [
    "# Check for duplicate date entries\n",
    "df['Month'].duplicated().sum()"
   ]
  },
  {
   "cell_type": "code",
   "execution_count": 7,
   "id": "fe40611b",
   "metadata": {
    "execution": {
     "iopub.execute_input": "2025-01-02T19:48:07.972225Z",
     "iopub.status.busy": "2025-01-02T19:48:07.971825Z",
     "iopub.status.idle": "2025-01-02T19:48:07.986297Z",
     "shell.execute_reply": "2025-01-02T19:48:07.985152Z"
    },
    "papermill": {
     "duration": 0.024367,
     "end_time": "2025-01-02T19:48:07.988536",
     "exception": false,
     "start_time": "2025-01-02T19:48:07.964169",
     "status": "completed"
    },
    "tags": []
   },
   "outputs": [],
   "source": [
    "#rearraning the complex structure in the “Month” column\n",
    "\n",
    "# Initialize Temp_date column with an empty string to avoid dtype issues\n",
    "df['Temp_date'] = \"\"\n",
    "\n",
    "# Define the starting year and a counter\n",
    "initial_year = 2019\n",
    "counter = 0\n",
    "\n",
    "# Iterate through the DataFrame using itertuples for better performance\n",
    "for indx, row in df.iterrows():\n",
    "    # Assign the correct year based on the counter value\n",
    "    if counter < 12:\n",
    "        year = initial_year\n",
    "    elif counter < 24:\n",
    "        year = initial_year + 1\n",
    "    else:\n",
    "        year = initial_year + 2\n",
    "\n",
    "    # Create the updated Temp_date with the new structure\n",
    "    df.at[indx, 'Temp_date'] = f\"{year}-{row['Month'][2:]}\"\n",
    "    \n",
    "    # Increment the counter\n",
    "    counter += 1\n",
    "\n",
    "# Replace the Month column with the new date format\n",
    "df['Month'] = df['Temp_date']\n",
    "\n",
    "# Drop the Temp_date column\n",
    "df.drop(columns=['Temp_date'], inplace=True)\n",
    "\n",
    "# Append \"-01\" to each entry to complete the YYYY-MM-DD format\n",
    "df['Month'] = df['Month'] + \"-01\"\n",
    "\n",
    "# Optional: Limit the DataFrame to the first 36 rows\n",
    "df = df.iloc[:36]\n"
   ]
  },
  {
   "cell_type": "code",
   "execution_count": 8,
   "id": "b608bcc4",
   "metadata": {
    "execution": {
     "iopub.execute_input": "2025-01-02T19:48:08.004741Z",
     "iopub.status.busy": "2025-01-02T19:48:08.004370Z",
     "iopub.status.idle": "2025-01-02T19:48:08.015139Z",
     "shell.execute_reply": "2025-01-02T19:48:08.013847Z"
    },
    "papermill": {
     "duration": 0.02106,
     "end_time": "2025-01-02T19:48:08.017043",
     "exception": false,
     "start_time": "2025-01-02T19:48:07.995983",
     "status": "completed"
    },
    "tags": []
   },
   "outputs": [
    {
     "data": {
      "text/html": [
       "<div>\n",
       "<style scoped>\n",
       "    .dataframe tbody tr th:only-of-type {\n",
       "        vertical-align: middle;\n",
       "    }\n",
       "\n",
       "    .dataframe tbody tr th {\n",
       "        vertical-align: top;\n",
       "    }\n",
       "\n",
       "    .dataframe thead th {\n",
       "        text-align: right;\n",
       "    }\n",
       "</style>\n",
       "<table border=\"1\" class=\"dataframe\">\n",
       "  <thead>\n",
       "    <tr style=\"text-align: right;\">\n",
       "      <th></th>\n",
       "      <th>Month</th>\n",
       "      <th>Sales of shampoo over a three year period</th>\n",
       "    </tr>\n",
       "  </thead>\n",
       "  <tbody>\n",
       "    <tr>\n",
       "      <th>0</th>\n",
       "      <td>2019-01-01</td>\n",
       "      <td>266.0</td>\n",
       "    </tr>\n",
       "    <tr>\n",
       "      <th>1</th>\n",
       "      <td>2019-02-01</td>\n",
       "      <td>145.9</td>\n",
       "    </tr>\n",
       "    <tr>\n",
       "      <th>2</th>\n",
       "      <td>2019-03-01</td>\n",
       "      <td>183.1</td>\n",
       "    </tr>\n",
       "    <tr>\n",
       "      <th>3</th>\n",
       "      <td>2019-04-01</td>\n",
       "      <td>119.3</td>\n",
       "    </tr>\n",
       "    <tr>\n",
       "      <th>4</th>\n",
       "      <td>2019-05-01</td>\n",
       "      <td>180.3</td>\n",
       "    </tr>\n",
       "  </tbody>\n",
       "</table>\n",
       "</div>"
      ],
      "text/plain": [
       "        Month  Sales of shampoo over a three year period\n",
       "0  2019-01-01                                      266.0\n",
       "1  2019-02-01                                      145.9\n",
       "2  2019-03-01                                      183.1\n",
       "3  2019-04-01                                      119.3\n",
       "4  2019-05-01                                      180.3"
      ]
     },
     "execution_count": 8,
     "metadata": {},
     "output_type": "execute_result"
    }
   ],
   "source": [
    "df.head()"
   ]
  },
  {
   "cell_type": "code",
   "execution_count": 9,
   "id": "4ebd9372",
   "metadata": {
    "execution": {
     "iopub.execute_input": "2025-01-02T19:48:08.032698Z",
     "iopub.status.busy": "2025-01-02T19:48:08.032328Z",
     "iopub.status.idle": "2025-01-02T19:48:08.038975Z",
     "shell.execute_reply": "2025-01-02T19:48:08.037571Z"
    },
    "papermill": {
     "duration": 0.016771,
     "end_time": "2025-01-02T19:48:08.041064",
     "exception": false,
     "start_time": "2025-01-02T19:48:08.024293",
     "status": "completed"
    },
    "tags": []
   },
   "outputs": [],
   "source": [
    "df= df.set_index(['Month'])\n",
    "df = df.rename({'Sales of shampoo over a three year period': 'Sales'},axis=1)"
   ]
  },
  {
   "cell_type": "code",
   "execution_count": 10,
   "id": "7d5244e6",
   "metadata": {
    "execution": {
     "iopub.execute_input": "2025-01-02T19:48:08.057567Z",
     "iopub.status.busy": "2025-01-02T19:48:08.057201Z",
     "iopub.status.idle": "2025-01-02T19:48:08.067092Z",
     "shell.execute_reply": "2025-01-02T19:48:08.065508Z"
    },
    "papermill": {
     "duration": 0.020173,
     "end_time": "2025-01-02T19:48:08.068817",
     "exception": false,
     "start_time": "2025-01-02T19:48:08.048644",
     "status": "completed"
    },
    "tags": []
   },
   "outputs": [
    {
     "data": {
      "text/html": [
       "<div>\n",
       "<style scoped>\n",
       "    .dataframe tbody tr th:only-of-type {\n",
       "        vertical-align: middle;\n",
       "    }\n",
       "\n",
       "    .dataframe tbody tr th {\n",
       "        vertical-align: top;\n",
       "    }\n",
       "\n",
       "    .dataframe thead th {\n",
       "        text-align: right;\n",
       "    }\n",
       "</style>\n",
       "<table border=\"1\" class=\"dataframe\">\n",
       "  <thead>\n",
       "    <tr style=\"text-align: right;\">\n",
       "      <th></th>\n",
       "      <th>Sales</th>\n",
       "    </tr>\n",
       "    <tr>\n",
       "      <th>Month</th>\n",
       "      <th></th>\n",
       "    </tr>\n",
       "  </thead>\n",
       "  <tbody>\n",
       "    <tr>\n",
       "      <th>2019-01-01</th>\n",
       "      <td>266.0</td>\n",
       "    </tr>\n",
       "    <tr>\n",
       "      <th>2019-02-01</th>\n",
       "      <td>145.9</td>\n",
       "    </tr>\n",
       "    <tr>\n",
       "      <th>2019-03-01</th>\n",
       "      <td>183.1</td>\n",
       "    </tr>\n",
       "    <tr>\n",
       "      <th>2019-04-01</th>\n",
       "      <td>119.3</td>\n",
       "    </tr>\n",
       "    <tr>\n",
       "      <th>2019-05-01</th>\n",
       "      <td>180.3</td>\n",
       "    </tr>\n",
       "  </tbody>\n",
       "</table>\n",
       "</div>"
      ],
      "text/plain": [
       "            Sales\n",
       "Month            \n",
       "2019-01-01  266.0\n",
       "2019-02-01  145.9\n",
       "2019-03-01  183.1\n",
       "2019-04-01  119.3\n",
       "2019-05-01  180.3"
      ]
     },
     "execution_count": 10,
     "metadata": {},
     "output_type": "execute_result"
    }
   ],
   "source": [
    "df.head()"
   ]
  },
  {
   "cell_type": "markdown",
   "id": "6114dadd",
   "metadata": {
    "papermill": {
     "duration": 0.006627,
     "end_time": "2025-01-02T19:48:08.083245",
     "exception": false,
     "start_time": "2025-01-02T19:48:08.076618",
     "status": "completed"
    },
    "tags": []
   },
   "source": [
    "# **Step 3.** Visualise and understand the data."
   ]
  },
  {
   "cell_type": "code",
   "execution_count": 11,
   "id": "da180580",
   "metadata": {
    "execution": {
     "iopub.execute_input": "2025-01-02T19:48:08.098576Z",
     "iopub.status.busy": "2025-01-02T19:48:08.098207Z",
     "iopub.status.idle": "2025-01-02T19:48:08.532134Z",
     "shell.execute_reply": "2025-01-02T19:48:08.531029Z"
    },
    "papermill": {
     "duration": 0.444235,
     "end_time": "2025-01-02T19:48:08.534403",
     "exception": false,
     "start_time": "2025-01-02T19:48:08.090168",
     "status": "completed"
    },
    "tags": []
   },
   "outputs": [
    {
     "data": {
      "image/png": "[encoded data removed]",
      "text/plain": [
       "<Figure size 1200x500 with 1 Axes>"
      ]
     },
     "metadata": {},
     "output_type": "display_data"
    }
   ],
   "source": [
    "plt.figure(figsize=(12,5))\n",
    "plt.title(\"Price Distirbution Graph\")\n",
    "ax = sns.distplot(df[\"Sales\"], color = 'y')"
   ]
  },
  {
   "cell_type": "code",
   "execution_count": 12,
   "id": "035d1e3a",
   "metadata": {
    "execution": {
     "iopub.execute_input": "2025-01-02T19:48:08.554363Z",
     "iopub.status.busy": "2025-01-02T19:48:08.553902Z",
     "iopub.status.idle": "2025-01-02T19:48:08.583370Z",
     "shell.execute_reply": "2025-01-02T19:48:08.582031Z"
    },
    "papermill": {
     "duration": 0.040901,
     "end_time": "2025-01-02T19:48:08.585233",
     "exception": false,
     "start_time": "2025-01-02T19:48:08.544332",
     "status": "completed"
    },
    "tags": []
   },
   "outputs": [
    {
     "name": "stdout",
     "output_type": "stream",
     "text": [
      "1. ADF :  3.060142083641181\n",
      "2. P-Value :  1.0\n",
      "3. Num Of Lags :  10\n",
      "4. Num Of Observations Used For ADF Regression: 25\n",
      "5. Critical Values :\n",
      "\t 1% :  -3.7238633119999998\n",
      "\t 5% :  -2.98648896\n",
      "\t 10% :  -2.6328004\n"
     ]
    }
   ],
   "source": [
    "def ad_test(dataset):\n",
    "\n",
    "    # The adfuller function performs the ADF test and allows you to specify an autolag parameter\n",
    "    dftest = adfuller(dataset, autolag = 'AIC')\n",
    "    \n",
    "    print(\"1. ADF : \",dftest[0])\n",
    "    print(\"2. P-Value : \", dftest[1])\n",
    "    print(\"3. Num Of Lags : \", dftest[2])\n",
    "    print(\"4. Num Of Observations Used For ADF Regression:\",dftest[3])\n",
    "    print(\"5. Critical Values :\")\n",
    "    for key, val in dftest[4].items():\n",
    "         print(\"\\t\",key, \": \", val)\n",
    "         \n",
    "         \n",
    "ad_test(df['Sales'])"
   ]
  },
  {
   "cell_type": "markdown",
   "id": "0f9ec60c",
   "metadata": {
    "papermill": {
     "duration": 0.007818,
     "end_time": "2025-01-02T19:48:08.601333",
     "exception": false,
     "start_time": "2025-01-02T19:48:08.593515",
     "status": "completed"
    },
    "tags": []
   },
   "source": [
    "# Step 4. Building ARIMA Model for Forecasting"
   ]
  },
  {
   "cell_type": "code",
   "execution_count": 13,
   "id": "4e2a7d5a",
   "metadata": {
    "execution": {
     "iopub.execute_input": "2025-01-02T19:48:08.618736Z",
     "iopub.status.busy": "2025-01-02T19:48:08.618354Z",
     "iopub.status.idle": "2025-01-02T19:48:10.723309Z",
     "shell.execute_reply": "2025-01-02T19:48:10.722253Z"
    },
    "papermill": {
     "duration": 2.116287,
     "end_time": "2025-01-02T19:48:10.725460",
     "exception": false,
     "start_time": "2025-01-02T19:48:08.609173",
     "status": "completed"
    },
    "tags": []
   },
   "outputs": [
    {
     "name": "stdout",
     "output_type": "stream",
     "text": [
      "Performing stepwise search to minimize aic\n",
      " ARIMA(2,1,2)(0,0,0)[0] intercept   : AIC=inf, Time=0.19 sec\n",
      " ARIMA(0,1,0)(0,0,0)[0] intercept   : AIC=430.873, Time=0.02 sec\n",
      " ARIMA(1,1,0)(0,0,0)[0] intercept   : AIC=405.977, Time=0.05 sec\n",
      " ARIMA(0,1,1)(0,0,0)[0] intercept   : AIC=408.967, Time=0.05 sec\n",
      " ARIMA(0,1,0)(0,0,0)[0]             : AIC=429.229, Time=0.02 sec\n",
      " ARIMA(2,1,0)(0,0,0)[0] intercept   : AIC=403.573, Time=0.07 sec\n",
      " ARIMA(3,1,0)(0,0,0)[0] intercept   : AIC=404.633, Time=0.10 sec\n",
      " ARIMA(2,1,1)(0,0,0)[0] intercept   : AIC=404.226, Time=0.22 sec\n",
      " ARIMA(1,1,1)(0,0,0)[0] intercept   : AIC=402.407, Time=0.09 sec\n",
      " ARIMA(1,1,2)(0,0,0)[0] intercept   : AIC=401.463, Time=0.16 sec\n",
      " ARIMA(0,1,2)(0,0,0)[0] intercept   : AIC=inf, Time=0.08 sec\n",
      " ARIMA(1,1,3)(0,0,0)[0] intercept   : AIC=inf, Time=0.35 sec\n",
      " ARIMA(0,1,3)(0,0,0)[0] intercept   : AIC=inf, Time=0.24 sec\n",
      " ARIMA(2,1,3)(0,0,0)[0] intercept   : AIC=inf, Time=0.33 sec\n",
      " ARIMA(1,1,2)(0,0,0)[0]             : AIC=inf, Time=0.09 sec\n",
      "\n",
      "Best model:  ARIMA(1,1,2)(0,0,0)[0] intercept\n",
      "Total fit time: 2.095 seconds\n"
     ]
    }
   ],
   "source": [
    "#arima\n",
    "stepwise_fit = auto_arima(df['Sales'], trace=True)"
   ]
  },
  {
   "cell_type": "code",
   "execution_count": 14,
   "id": "fc7910ca",
   "metadata": {
    "execution": {
     "iopub.execute_input": "2025-01-02T19:48:10.748186Z",
     "iopub.status.busy": "2025-01-02T19:48:10.747799Z",
     "iopub.status.idle": "2025-01-02T19:48:10.752621Z",
     "shell.execute_reply": "2025-01-02T19:48:10.751967Z"
    },
    "papermill": {
     "duration": 0.016602,
     "end_time": "2025-01-02T19:48:10.754330",
     "exception": false,
     "start_time": "2025-01-02T19:48:10.737728",
     "status": "completed"
    },
    "tags": []
   },
   "outputs": [],
   "source": [
    "#Separation of data set as test and train.\n",
    "\n",
    "X = df.values\n",
    "size = int(len(X) * 0.66)\n",
    "train, test = X[0:size], X[size:len(X)]\n",
    "history = [x for x in train]\n",
    "predictions = list()"
   ]
  },
  {
   "cell_type": "code",
   "execution_count": 15,
   "id": "513ed848",
   "metadata": {
    "execution": {
     "iopub.execute_input": "2025-01-02T19:48:10.773339Z",
     "iopub.status.busy": "2025-01-02T19:48:10.772920Z",
     "iopub.status.idle": "2025-01-02T19:48:11.466622Z",
     "shell.execute_reply": "2025-01-02T19:48:11.465357Z"
    },
    "papermill": {
     "duration": 0.70578,
     "end_time": "2025-01-02T19:48:11.468606",
     "exception": false,
     "start_time": "2025-01-02T19:48:10.762826",
     "status": "completed"
    },
    "tags": []
   },
   "outputs": [
    {
     "name": "stdout",
     "output_type": "stream",
     "text": [
      "predicted=349.970807, expected=342.300000\n",
      "predicted=286.003055, expected=339.700000\n",
      "predicted=341.015454, expected=440.400000\n",
      "predicted=341.819704, expected=315.900000\n",
      "predicted=391.521270, expected=439.300000\n",
      "predicted=339.753099, expected=401.300000\n",
      "predicted=424.993908, expected=437.400000\n",
      "predicted=387.268988, expected=575.500000\n",
      "predicted=468.852028, expected=407.600000\n",
      "predicted=503.761977, expected=682.000000\n",
      "predicted=460.691662, expected=475.300000\n",
      "predicted=613.988012, expected=581.300000\n",
      "predicted=521.714870, expected=646.900000\n"
     ]
    }
   ],
   "source": [
    "#Fitting the ARIMA Model\n",
    "\n",
    "for t in range(len(test)):\n",
    "    model = ARIMA(history, order=(1,1,2))\n",
    "    model_fit = model.fit()\n",
    "    output = model_fit.forecast()\n",
    "    yhat = output[0]\n",
    "    predictions.append(yhat)\n",
    "    obs = test[t]\n",
    "    history.append(obs)\n",
    "    print('predicted=%f, expected=%f' % (yhat, obs))"
   ]
  },
  {
   "cell_type": "code",
   "execution_count": 16,
   "id": "f57fbcaf",
   "metadata": {
    "execution": {
     "iopub.execute_input": "2025-01-02T19:48:11.487695Z",
     "iopub.status.busy": "2025-01-02T19:48:11.487366Z",
     "iopub.status.idle": "2025-01-02T19:48:11.493158Z",
     "shell.execute_reply": "2025-01-02T19:48:11.492105Z"
    },
    "papermill": {
     "duration": 0.017213,
     "end_time": "2025-01-02T19:48:11.494872",
     "exception": false,
     "start_time": "2025-01-02T19:48:11.477659",
     "status": "completed"
    },
    "tags": []
   },
   "outputs": [
    {
     "name": "stdout",
     "output_type": "stream",
     "text": [
      "Test RMSE: 90.986\n"
     ]
    }
   ],
   "source": [
    "rmse = sqrt(mean_squared_error(test, predictions))\n",
    "print('Test RMSE: %.3f' % rmse)"
   ]
  },
  {
   "cell_type": "code",
   "execution_count": 17,
   "id": "b5ddbfa2",
   "metadata": {
    "execution": {
     "iopub.execute_input": "2025-01-02T19:48:11.513956Z",
     "iopub.status.busy": "2025-01-02T19:48:11.513625Z",
     "iopub.status.idle": "2025-01-02T19:48:11.778102Z",
     "shell.execute_reply": "2025-01-02T19:48:11.776895Z"
    },
    "papermill": {
     "duration": 0.276199,
     "end_time": "2025-01-02T19:48:11.780034",
     "exception": false,
     "start_time": "2025-01-02T19:48:11.503835",
     "status": "completed"
    },
    "tags": []
   },
   "outputs": [
    {
     "data": {
      "image/png": "[encoded data removed]",
      "text/plain": [
       "<Figure size 640x480 with 1 Axes>"
      ]
     },
     "metadata": {},
     "output_type": "display_data"
    }
   ],
   "source": [
    "plt.plot(test, label='Test', color='blue')\n",
    "plt.plot(predictions, label='Predicted', color='red')\n",
    "plt.legend()\n",
    "plt.show()"
   ]
  },
  {
   "cell_type": "code",
   "execution_count": null,
   "id": "8ecba458",
   "metadata": {
    "papermill": {
     "duration": 0.013983,
     "end_time": "2025-01-02T19:48:11.804338",
     "exception": false,
     "start_time": "2025-01-02T19:48:11.790355",
     "status": "completed"
    },
    "tags": []
   },
   "outputs": [],
   "source": []
  },
  {
   "cell_type": "code",
   "execution_count": 18,
   "id": "7c54fd82",
   "metadata": {
    "execution": {
     "iopub.execute_input": "2025-01-02T19:48:11.824752Z",
     "iopub.status.busy": "2025-01-02T19:48:11.824412Z",
     "iopub.status.idle": "2025-01-02T19:48:19.753076Z",
     "shell.execute_reply": "2025-01-02T19:48:19.752099Z"
    },
    "papermill": {
     "duration": 7.941386,
     "end_time": "2025-01-02T19:48:19.755162",
     "exception": false,
     "start_time": "2025-01-02T19:48:11.813776",
     "status": "completed"
    },
    "tags": []
   },
   "outputs": [
    {
     "name": "stdout",
     "output_type": "stream",
     "text": [
      "Performing stepwise search to minimize aic\n",
      " ARIMA(2,1,2)(1,0,1)[12] intercept   : AIC=inf, Time=0.68 sec\n",
      " ARIMA(0,1,0)(0,0,0)[12] intercept   : AIC=430.873, Time=0.03 sec\n",
      " ARIMA(1,1,0)(1,0,0)[12] intercept   : AIC=404.659, Time=0.18 sec\n",
      " ARIMA(0,1,1)(0,0,1)[12] intercept   : AIC=inf, Time=0.35 sec\n",
      " ARIMA(0,1,0)(0,0,0)[12]             : AIC=429.229, Time=0.02 sec\n",
      " ARIMA(1,1,0)(0,0,0)[12] intercept   : AIC=405.977, Time=0.07 sec\n",
      " ARIMA(1,1,0)(2,0,0)[12] intercept   : AIC=404.886, Time=0.44 sec\n",
      " ARIMA(1,1,0)(1,0,1)[12] intercept   : AIC=inf, Time=0.43 sec\n",
      " ARIMA(1,1,0)(0,0,1)[12] intercept   : AIC=402.858, Time=0.18 sec\n",
      " ARIMA(1,1,0)(0,0,2)[12] intercept   : AIC=inf, Time=0.39 sec\n",
      " ARIMA(1,1,0)(1,0,2)[12] intercept   : AIC=inf, Time=0.72 sec\n",
      " ARIMA(0,1,0)(0,0,1)[12] intercept   : AIC=inf, Time=0.14 sec\n",
      " ARIMA(2,1,0)(0,0,1)[12] intercept   : AIC=inf, Time=0.22 sec\n",
      " ARIMA(1,1,1)(0,0,1)[12] intercept   : AIC=399.463, Time=0.32 sec\n",
      " ARIMA(1,1,1)(0,0,0)[12] intercept   : AIC=402.407, Time=0.12 sec\n",
      " ARIMA(1,1,1)(1,0,1)[12] intercept   : AIC=inf, Time=0.52 sec\n",
      " ARIMA(1,1,1)(0,0,2)[12] intercept   : AIC=inf, Time=0.41 sec\n",
      " ARIMA(1,1,1)(1,0,0)[12] intercept   : AIC=400.898, Time=0.23 sec\n",
      " ARIMA(1,1,1)(1,0,2)[12] intercept   : AIC=inf, Time=0.56 sec\n",
      " ARIMA(2,1,1)(0,0,1)[12] intercept   : AIC=inf, Time=0.39 sec\n",
      " ARIMA(1,1,2)(0,0,1)[12] intercept   : AIC=inf, Time=0.50 sec\n",
      " ARIMA(0,1,2)(0,0,1)[12] intercept   : AIC=inf, Time=0.29 sec\n",
      " ARIMA(2,1,2)(0,0,1)[12] intercept   : AIC=inf, Time=0.54 sec\n",
      " ARIMA(1,1,1)(0,0,1)[12]             : AIC=407.628, Time=0.14 sec\n",
      "\n",
      "Best model:  ARIMA(1,1,1)(0,0,1)[12] intercept\n",
      "Total fit time: 7.916 seconds\n"
     ]
    }
   ],
   "source": [
    "#fitting seasonality and using auto sarima\n",
    "\n",
    "from pmdarima import auto_arima\n",
    "\n",
    "stepwise_fit_sarima = auto_arima(df['Sales'], seasonal=True, m=12, trace=True)\n"
   ]
  },
  {
   "cell_type": "code",
   "execution_count": 19,
   "id": "f2f06c40",
   "metadata": {
    "execution": {
     "iopub.execute_input": "2025-01-02T19:48:19.794058Z",
     "iopub.status.busy": "2025-01-02T19:48:19.793589Z",
     "iopub.status.idle": "2025-01-02T19:48:21.847711Z",
     "shell.execute_reply": "2025-01-02T19:48:21.846268Z"
    },
    "papermill": {
     "duration": 2.076602,
     "end_time": "2025-01-02T19:48:21.850387",
     "exception": false,
     "start_time": "2025-01-02T19:48:19.773785",
     "status": "completed"
    },
    "tags": []
   },
   "outputs": [
    {
     "name": "stdout",
     "output_type": "stream",
     "text": [
      "predicted=372.043856, expected=342.300000\n",
      "predicted=320.421667, expected=339.700000\n",
      "predicted=384.334240, expected=440.400000\n",
      "predicted=359.997111, expected=315.900000\n",
      "predicted=340.566569, expected=439.300000\n",
      "predicted=366.423921, expected=401.300000\n",
      "predicted=375.089706, expected=437.400000\n",
      "predicted=396.361469, expected=575.500000\n",
      "predicted=453.934487, expected=407.600000\n",
      "predicted=497.436762, expected=682.000000\n",
      "predicted=441.105422, expected=475.300000\n",
      "predicted=620.116657, expected=581.300000\n",
      "predicted=525.274575, expected=646.900000\n"
     ]
    }
   ],
   "source": [
    "predictions = []\n",
    "history = [x for x in train] \n",
    "for t in range(len(test)):\n",
    "    model = SARIMAX(history, order=(1,1,1), seasonal_order=(0,0,1,12), trend=None)\n",
    "    model_fit = model.fit()\n",
    "    output = model_fit.forecast()\n",
    "    yhat = output[0]\n",
    "    predictions.append(yhat)\n",
    "    obs = test[t]\n",
    "    history.append(obs)\n",
    "    #print(f'Predicted={yhat[0]:.6f}, Expected={obs:.6f}')  # Format correctly\n",
    "    print('predicted=%f, expected=%f' % (yhat, obs))"
   ]
  },
  {
   "cell_type": "code",
   "execution_count": 20,
   "id": "5ec7559f",
   "metadata": {
    "execution": {
     "iopub.execute_input": "2025-01-02T19:48:21.890356Z",
     "iopub.status.busy": "2025-01-02T19:48:21.889899Z",
     "iopub.status.idle": "2025-01-02T19:48:21.899831Z",
     "shell.execute_reply": "2025-01-02T19:48:21.898867Z"
    },
    "papermill": {
     "duration": 0.03175,
     "end_time": "2025-01-02T19:48:21.901674",
     "exception": false,
     "start_time": "2025-01-02T19:48:21.869924",
     "status": "completed"
    },
    "tags": []
   },
   "outputs": [
    {
     "name": "stdout",
     "output_type": "stream",
     "text": [
      "Test RMSE: 90.707\n"
     ]
    }
   ],
   "source": [
    "rmse = sqrt(mean_squared_error(test, predictions))\n",
    "print('Test RMSE: %.3f' % rmse)"
   ]
  },
  {
   "cell_type": "code",
   "execution_count": 21,
   "id": "5c02ed07",
   "metadata": {
    "execution": {
     "iopub.execute_input": "2025-01-02T19:48:21.942222Z",
     "iopub.status.busy": "2025-01-02T19:48:21.941761Z",
     "iopub.status.idle": "2025-01-02T19:48:22.204342Z",
     "shell.execute_reply": "2025-01-02T19:48:22.203266Z"
    },
    "papermill": {
     "duration": 0.284547,
     "end_time": "2025-01-02T19:48:22.205980",
     "exception": false,
     "start_time": "2025-01-02T19:48:21.921433",
     "status": "completed"
    },
    "tags": []
   },
   "outputs": [
    {
     "data": {
      "image/png": "[encoded data removed]",
      "text/plain": [
       "<Figure size 640x480 with 1 Axes>"
      ]
     },
     "metadata": {},
     "output_type": "display_data"
    }
   ],
   "source": [
    "plt.plot(test, label='Test', color='blue')\n",
    "plt.plot(predictions, label='Predicted', color='red')\n",
    "plt.legend()\n",
    "plt.show()"
   ]
  },
  {
   "cell_type": "markdown",
   "id": "769f1651",
   "metadata": {
    "papermill": {
     "duration": 0.011379,
     "end_time": "2025-01-02T19:48:22.229395",
     "exception": false,
     "start_time": "2025-01-02T19:48:22.218016",
     "status": "completed"
    },
    "tags": []
   },
   "source": [
    "ARIMA provides slightly better results than SARIMA"
   ]
  },
  {
   "cell_type": "markdown",
   "id": "ab73edc0",
   "metadata": {
    "papermill": {
     "duration": 0.011402,
     "end_time": "2025-01-02T19:48:22.252496",
     "exception": false,
     "start_time": "2025-01-02T19:48:22.241094",
     "status": "completed"
    },
    "tags": []
   },
   "source": [
    "Reference: https://medium.com/@i.cemozcelik/data-science-project-sales-forecasting-with-arima-model-67321d547866"
   ]
  }
 ],
 "metadata": {
  "kaggle": {
   "accelerator": "none",
   "dataSources": [
    {
     "datasetId": 9613,
     "sourceId": 13690,
     "sourceType": "datasetVersion"
    }
   ],
   "dockerImageVersionId": 30822,
   "isGpuEnabled": false,
   "isInternetEnabled": true,
   "language": "python",
   "sourceType": "notebook"
  },
  "kernelspec": {
   "display_name": "Python 3",
   "language": "python",
   "name": "python3"
  },
  "language_info": {
   "codemirror_mode": {
    "name": "ipython",
    "version": 3
   },
   "file_extension": ".py",
   "mimetype": "text/x-python",
   "name": "python",
   "nbconvert_exporter": "python",
   "pygments_lexer": "ipython3",
   "version": "3.10.12"
  },
  "papermill": {
   "default_parameters": {},
   "duration": 29.572543,
   "end_time": "2025-01-02T19:48:23.085614",
   "environment_variables": {},
   "exception": null,
   "input_path": "__notebook__.ipynb",
   "output_path": "__notebook__.ipynb",
   "parameters": {},
   "start_time": "2025-01-02T19:47:53.513071",
   "version": "2.6.0"
  }
 },
 "nbformat": 4,
 "nbformat_minor": 5
}
